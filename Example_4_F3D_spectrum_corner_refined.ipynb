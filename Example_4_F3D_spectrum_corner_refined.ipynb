{
 "cells": [
  {
   "cell_type": "code",
   "execution_count": 2,
   "metadata": {},
   "outputs": [
    {
     "data": {
      "text/plain": [
       "1.0000220785"
      ]
     },
     "execution_count": 2,
     "metadata": {},
     "output_type": "execute_result"
    }
   ],
   "source": [
    "(5e3+1.95313e+01*50945)/1e6"
   ]
  },
  {
   "cell_type": "code",
   "execution_count": 8,
   "metadata": {},
   "outputs": [
    {
     "data": {
      "text/plain": [
       "50945.0"
      ]
     },
     "execution_count": 8,
     "metadata": {},
     "output_type": "execute_result"
    }
   ],
   "source": [
    "((17266-285)*6+4)/2"
   ]
  },
  {
   "cell_type": "code",
   "execution_count": 1,
   "metadata": {},
   "outputs": [
    {
     "name": "stdout",
     "output_type": "stream",
     "text": [
      "Functions compiled and cached.\n"
     ]
    }
   ],
   "source": [
    "#!/usr/bin/env python3\n",
    "# -*- coding: utf-8 -*-\n",
    "import Plate.plate_fem as pt\n",
    "#from Fluid import F2D\n",
    "from Fluid import F3D\n",
    "import numpy as np\n",
    "import time\n",
    "import matplotlib.pyplot as plt\n",
    "\n",
    "# Specify geometry\n",
    "aspect_ratio = 10\n",
    "l_c = 500e-6  # length of beam in m\n",
    "h_c = 5e-6  # thickness of the beam in m\n",
    "w_c = l_c / aspect_ratio  # width in m\n",
    "\n",
    "# Specify fluid -> Water\n",
    "mu_f = 890e-6  # Fluid dynamic viscosity in Pa.s\n",
    "rho_f = 997  # Fluid density in kg/m^3\n",
    "nu_f = mu_f / rho_f  # Fluid kinematic viscosity in m^2/s\n",
    "\n",
    "# Specify material of plate -> Silicon\n",
    "e_c = 169E9  # Young's Modulus in Pa\n",
    "rho_c = 2.33E3  # Density in kg/m^3\n",
    "nu_c = 0.3  # Poisson Coefficient, dimensionless\n",
    "\n",
    "# Basic objects, shared by all classes\n",
    "geometry = pt.Geometry(l_c, w_c, h_c)\n",
    "mat = pt.Material(e_c, rho_c, nu_c)\n",
    "fluid = F3D.Fluid(mu_f, rho_f)\n",
    "\n",
    "# Mesh specification -> To solve Kirchhoff-Love plate equation\n",
    "n_x = 32  # Number of elements in length l_c (x-direction)\n",
    "n_y = int(n_x/aspect_ratio) # Number of elements in width w_c (y-direction)\n",
    "\n",
    "# Fluid grid specification -> To solve the fluid problem\n",
    "n_x_fluid = 24  # Number of elements in length l_c (x-direction)\n",
    "n_y_fluid = int(1.5*n_x_fluid)  # Number of elements in width w_c (y-direction)\n",
    "\n",
    "\n",
    "\n"
   ]
  },
  {
   "cell_type": "code",
   "execution_count": 2,
   "metadata": {},
   "outputs": [
    {
     "name": "stdout",
     "output_type": "stream",
     "text": [
      "\n",
      " Setup Mesh 32 x 3.\n"
     ]
    }
   ],
   "source": [
    "plate = pt.InteriorPenalty()\n",
    "plate.geometry = geometry\n",
    "plate.mat = mat\n",
    "plate.meshing(n_x, n_y, 'crossed')\n",
    "plate.preliminary_setup()\n",
    "#plate.k_and_m_matrices()\n",
    "plate.setup_eigenvalues_problem()"
   ]
  },
  {
   "cell_type": "code",
   "execution_count": 3,
   "metadata": {},
   "outputs": [],
   "source": [
    "vfi = F3D.F3D()\n",
    "vfi.fluid = fluid\n",
    "vfi.fem = plate\n",
    "vfi.geometry = geometry\n",
    "vfi.setup_quadrature(n_x_fluid, n_y_fluid)\n",
    "vfi.tol_stk=5e-3"
   ]
  },
  {
   "cell_type": "markdown",
   "metadata": {},
   "source": [
    "# Solve for VFI dynamics in the frequency domain"
   ]
  },
  {
   "cell_type": "code",
   "execution_count": 4,
   "metadata": {},
   "outputs": [],
   "source": [
    "\n",
    "# Spectral analysis\n",
    "n_f = 50  # Number of steps in frequency\n",
    "f_initial = 1e3  # Specify Initial frequency in Hz\n",
    "f_final = 400e3  # Specify Final frequency in Hz, you can use the f_n in vacuum as an initial guess\n",
    "#frequency = np.linspace(f_initial, f_final, n_f, endpoint=True)\n",
    "frequency = np.logspace(np.log10(f_initial), np.log10(f_final), n_f, endpoint=True)\n",
    "from tqdm import tqdm\n",
    "import fenics as fe\n",
    "import scipy.sparse as sp\n",
    "from scipy.sparse.linalg import spsolve"
   ]
  },
  {
   "cell_type": "code",
   "execution_count": 5,
   "metadata": {},
   "outputs": [],
   "source": [
    "row, col, val = fe.as_backend_type(plate.m_matrix.mat().getValuesCSR())\n",
    "M_csr = sp.csr_matrix((val, col, row), dtype=complex)\n",
    "\n",
    "row, col, val = fe.as_backend_type(plate.k_matrix.mat().getValuesCSR())\n",
    "K_csr = sp.csr_matrix((val, col, row), dtype=complex)\n",
    "\n",
    "L = np.array(plate.get_linear_form())\n",
    "\n",
    "phi_3d = np.zeros(len(frequency), dtype=complex)"
   ]
  },
  {
   "cell_type": "code",
   "execution_count": 6,
   "metadata": {},
   "outputs": [
    {
     "name": "stderr",
     "output_type": "stream",
     "text": [
      "\r",
      "  0%|                                                 | 0/21600 [00:00<?, ?it/s]"
     ]
    }
   ],
   "source": [
    " \n",
    "vfi.pbar = tqdm(total=int(len(vfi.xp)*len(vfi.yp)/2*n_f))"
   ]
  },
  {
   "cell_type": "code",
   "execution_count": 7,
   "metadata": {},
   "outputs": [
    {
     "name": "stderr",
     "output_type": "stream",
     "text": [
      "100%|████████████████████████████████████▉| 21596/21600 [09:59<00:00, 59.51it/s]"
     ]
    }
   ],
   "source": [
    "tt = time.time()\n",
    "for ff in range(n_f):\n",
    "    omega = 2*np.pi*frequency[ff]\n",
    "    Fl_3d = vfi.get_h_force(omega)\n",
    "    L_2d = K_csr - omega**2*M_csr + 1j*omega*Fl_3d\n",
    "    phi = spsolve(L_2d, L)\n",
    "    phi_3d[ff] = plate.get_point_value(phi)\n",
    "    #if ff == 1:\n",
    "    #    tt = (time.time() - tt)*(n_f - 2)\n",
    "    #    print('Estimated remaining time: %d minutes and %d seconds' %(np.floor(tt/60), tt%60))"
   ]
  },
  {
   "cell_type": "markdown",
   "metadata": {},
   "source": [
    "# Compare to Sader"
   ]
  },
  {
   "cell_type": "code",
   "execution_count": 8,
   "metadata": {},
   "outputs": [],
   "source": [
    "import Fluid.Sader as Sader\n",
    "\n",
    "probe = Sader.SaderMethod()\n",
    "# specify geometry\n",
    "probe.geometry = geometry\n",
    "probe.fluid = fluid\n",
    "probe.mat = mat\n",
    "probe.frequency = frequency\n",
    "probe.N_modes = 10\n",
    "probe.n_x = 200\n",
    "#w = probe.thermal_displacement()\n",
    "#q_sader = probe.q_factor()\n",
    "w = probe.get_displacement_per_force().T*w_c\n",
    "w_sader = w\n"
   ]
  },
  {
   "cell_type": "code",
   "execution_count": 9,
   "metadata": {},
   "outputs": [
    {
     "data": {
      "image/png": "[encoded data removed]",
      "text/plain": [
       "<Figure size 900x400 with 1 Axes>"
      ]
     },
     "metadata": {},
     "output_type": "display_data"
    },
    {
     "name": "stderr",
     "output_type": "stream",
     "text": [
      "\r",
      "100%|█████████████████████████████████████| 21600/21600 [10:10<00:00, 59.51it/s]"
     ]
    }
   ],
   "source": [
    "plt.figure(1, figsize=(9, 4))\n",
    "plt.loglog(frequency/1e3, 1e9*np.abs(phi_3d), linewidth=2.4, label='3D')\n",
    "plt.loglog(frequency/1e3, 1e9*np.abs(w_sader[:, -1]), ':', linewidth=3,  label='Sader')\n",
    "#plt.loglog(frequency/1e3, np.abs(phi_probe), '--', label='Old')\n",
    "plt.legend(fontsize=12)\n",
    "plt.xlabel('$f$ [kHz]', fontsize=14)\n",
    "plt.ylabel(r'$\\phi$ [nm/Pa]', fontsize=14)\n",
    "plt.show()"
   ]
  },
  {
   "cell_type": "code",
   "execution_count": null,
   "metadata": {},
   "outputs": [],
   "source": []
  }
 ],
 "metadata": {
  "kernelspec": {
   "display_name": "Python 3 (ipykernel)",
   "language": "python",
   "name": "python3"
  },
  "language_info": {
   "codemirror_mode": {
    "name": "ipython",
    "version": 3
   },
   "file_extension": ".py",
   "mimetype": "text/x-python",
   "name": "python",
   "nbconvert_exporter": "python",
   "pygments_lexer": "ipython3",
   "version": "3.12.2"
  }
 },
 "nbformat": 4,
 "nbformat_minor": 4
}
