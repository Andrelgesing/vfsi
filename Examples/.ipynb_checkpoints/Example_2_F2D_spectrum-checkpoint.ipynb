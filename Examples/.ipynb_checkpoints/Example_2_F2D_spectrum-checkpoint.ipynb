{
 "cells": [
  {
   "cell_type": "code",
   "execution_count": 11,
   "metadata": {},
   "outputs": [
    {
     "name": "stdout",
     "output_type": "stream",
     "text": [
      "Isotropic material\n"
     ]
    }
   ],
   "source": [
    "#!/usr/bin/env python3\n",
    "# -*- coding: utf-8 -*-\n",
    "import sys\n",
    "sys.path.insert(0, '..')\n",
    "import Elastic.plate_fem as pt\n",
    "from Fluid.Fluid import Fluid\n",
    "from Fluid import F2D\n",
    "import numpy as np\n",
    "import time\n",
    "import matplotlib.pyplot as plt\n",
    "\n",
    "# Specify geometry\n",
    "aspect_ratio = 32\n",
    "l_c = 500e-6  # length of beam in m\n",
    "h_c = 5e-6  # thickness of the beam in m\n",
    "w_c = l_c / aspect_ratio  # width in m\n",
    "\n",
    "# Specify fluid -> Water\n",
    "mu_f = 890e-6  # Fluid dynamic viscosity in Pa.s\n",
    "rho_f = 997  # Fluid density in kg/m^3\n",
    "nu_f = mu_f / rho_f  # Fluid kinematic viscosity in m^2/s\n",
    "\n",
    "# Specify material of plate -> Silicon\n",
    "e_c = 169E9  # Young's Modulus in Pa\n",
    "rho_c = 2.33E3  # Density in kg/m^3\n",
    "nu_c = 0.3  # Poisson Coefficient, dimensionless\n",
    "\n",
    "# Basic objects, shared by all classes\n",
    "geometry = pt.Geometry(l_c, w_c, h_c)\n",
    "mat = pt.Material(e_c, rho_c, nu_c)\n",
    "fluid = Fluid(mu_f, rho_f)\n",
    "\n",
    "# Mesh specification -> To solve Kirchhoff-Love plate equation\n",
    "n_x = 64  # Number of elements in length l_c (x-direction)\n",
    "n_y = int(n_x/aspect_ratio) # Number of elements in width w_c (y-direction)\n",
    "\n",
    "# Fluid grid specification -> To solve the fluid problem\n",
    "n_x_fluid = 32  # Number of elements in length l_c (x-direction)\n",
    "n_y_fluid = 4*n_x_fluid  # Number of elements in width w_c (y-direction)\n",
    "\n",
    "\n",
    "\n"
   ]
  },
  {
   "cell_type": "code",
   "execution_count": null,
   "metadata": {},
   "outputs": [
    {
     "name": "stdout",
     "output_type": "stream",
     "text": [
      "Isotropic material\n",
      "\n",
      " Setup Mesh 64 x 2.\n"
     ]
    },
    {
     "data": {
      "text/plain": [
       "(<dolfin.cpp.la.PETScMatrix at 0x7f372c5e35f0>,\n",
       " <dolfin.cpp.la.PETScMatrix at 0x7f372c779550>)"
      ]
     },
     "execution_count": 12,
     "metadata": {},
     "output_type": "execute_result"
    }
   ],
   "source": [
    "plate = pt.Kirchhoff()\n",
    "plate.geometry = geometry\n",
    "plate.material = mat\n",
    "plate.meshing(n_x, n_y, 'crossed')\n",
    "plate.k_and_m_matrices()"
   ]
  },
  {
   "cell_type": "code",
   "execution_count": 13,
   "metadata": {},
   "outputs": [
    {
     "name": "stdout",
     "output_type": "stream",
     "text": [
      "Isotropic material\n"
     ]
    }
   ],
   "source": [
    "vfi = F2D.F2D()\n",
    "vfi.fluid = fluid\n",
    "vfi.fem = plate\n",
    "vfi.geometry = geometry\n",
    "vfi.setup_quadrature(n_x_fluid, n_y_fluid)"
   ]
  },
  {
   "cell_type": "markdown",
   "metadata": {},
   "source": [
    "# Solve for VFI dynamics in the frequency domain"
   ]
  },
  {
   "cell_type": "code",
   "execution_count": 14,
   "metadata": {},
   "outputs": [],
   "source": [
    "\n",
    "# Spectral analysis\n",
    "n_f = 200  # Number of steps in frequency\n",
    "f_initial = 1e3  # Specify Initial frequency in Hz\n",
    "f_final = 500e3  # Specify Final frequency in Hz, you can use the f_n in vacuum as an initial guess\n",
    "#frequency = np.linspace(f_initial, f_final, n_f, endpoint=True)\n",
    "frequency = np.logspace(np.log10(f_initial), np.log10(f_final), n_f, endpoint=True)\n",
    "from tqdm import tqdm\n",
    "import fenics as fe\n",
    "import scipy.sparse as sp\n",
    "from scipy.sparse.linalg import spsolve"
   ]
  },
  {
   "cell_type": "code",
   "execution_count": 15,
   "metadata": {},
   "outputs": [],
   "source": [
    "row, col, val = fe.as_backend_type(plate.m_matrix.mat().getValuesCSR())\n",
    "M_csr = sp.csr_matrix((val, col, row), dtype=complex)\n",
    "\n",
    "row, col, val = fe.as_backend_type(plate.k_matrix.mat().getValuesCSR())\n",
    "K_csr = sp.csr_matrix((val, col, row), dtype=complex)\n",
    "\n",
    "L = np.array(plate.get_linear_form())\n",
    "\n",
    "phi_2d = np.zeros(len(frequency), dtype=complex)"
   ]
  },
  {
   "cell_type": "code",
   "execution_count": 16,
   "metadata": {},
   "outputs": [
    {
     "name": "stderr",
     "output_type": "stream",
     "text": [
      " 78%|███████▊  | 157/200 [03:02<00:50,  1.16s/it]\n"
     ]
    },
    {
     "ename": "KeyboardInterrupt",
     "evalue": "",
     "output_type": "error",
     "traceback": [
      "\u001b[0;31m---------------------------------------------------------------------------\u001b[0m",
      "\u001b[0;31mKeyboardInterrupt\u001b[0m                         Traceback (most recent call last)",
      "Cell \u001b[0;32mIn[16], line 4\u001b[0m\n\u001b[1;32m      2\u001b[0m \u001b[38;5;28;01mfor\u001b[39;00m ff \u001b[38;5;129;01min\u001b[39;00m tqdm(\u001b[38;5;28mrange\u001b[39m(n_f)):\n\u001b[1;32m      3\u001b[0m     omega \u001b[38;5;241m=\u001b[39m \u001b[38;5;241m2\u001b[39m\u001b[38;5;241m*\u001b[39mnp\u001b[38;5;241m.\u001b[39mpi\u001b[38;5;241m*\u001b[39mfrequency[ff]\n\u001b[0;32m----> 4\u001b[0m     Fl_2d \u001b[38;5;241m=\u001b[39m vfi\u001b[38;5;241m.\u001b[39mget_h_force(omega)\n\u001b[1;32m      5\u001b[0m     L_2d \u001b[38;5;241m=\u001b[39m K_csr \u001b[38;5;241m-\u001b[39m omega\u001b[38;5;241m*\u001b[39m\u001b[38;5;241m*\u001b[39m\u001b[38;5;241m2\u001b[39m\u001b[38;5;241m*\u001b[39mM_csr \u001b[38;5;241m+\u001b[39m \u001b[38;5;241m1\u001b[39mj\u001b[38;5;241m*\u001b[39momega\u001b[38;5;241m*\u001b[39mFl_2d\n\u001b[1;32m      6\u001b[0m     phi \u001b[38;5;241m=\u001b[39m spsolve(L_2d, L)\n",
      "File \u001b[0;32m~/ownCloud/SoftwareX_implementation/vfi-mems/Examples/../Fluid/F2D.py:144\u001b[0m, in \u001b[0;36mget_h_force\u001b[0;34m(self, omega)\u001b[0m\n\u001b[1;32m    141\u001b[0m \u001b[38;5;28;01mdef\u001b[39;00m \u001b[38;5;21mf_func\u001b[39m(\u001b[38;5;28mself\u001b[39m, z):\n\u001b[1;32m    142\u001b[0m \u001b[38;5;250m    \u001b[39m\u001b[38;5;124;03m\"\"\"\u001b[39;00m\n\u001b[1;32m    143\u001b[0m \u001b[38;5;124;03m    Computes a complex function involving special functions.\u001b[39;00m\n\u001b[0;32m--> 144\u001b[0m \n\u001b[1;32m    145\u001b[0m \u001b[38;5;124;03m    Parameters:\u001b[39;00m\n\u001b[1;32m    146\u001b[0m \u001b[38;5;124;03m    z (complex): A complex number input.\u001b[39;00m\n\u001b[1;32m    147\u001b[0m \n\u001b[1;32m    148\u001b[0m \u001b[38;5;124;03m    Returns:\u001b[39;00m\n\u001b[1;32m    149\u001b[0m \u001b[38;5;124;03m    complex: The result of the function (1 / z) + special.kerp(z) + 1j * special.keip(z).\u001b[39;00m\n\u001b[1;32m    150\u001b[0m \u001b[38;5;124;03m    \"\"\"\u001b[39;00m\n\u001b[1;32m    151\u001b[0m     \u001b[38;5;28;01mreturn\u001b[39;00m (\u001b[38;5;241m1\u001b[39m \u001b[38;5;241m/\u001b[39m z) \u001b[38;5;241m+\u001b[39m special\u001b[38;5;241m.\u001b[39mkerp(z) \u001b[38;5;241m+\u001b[39m \u001b[38;5;241m1\u001b[39mj \u001b[38;5;241m*\u001b[39m special\u001b[38;5;241m.\u001b[39mkeip(z)\n",
      "File \u001b[0;32m~/.conda/envs/fenicsproject/lib/python3.12/site-packages/numpy/linalg/linalg.py:561\u001b[0m, in \u001b[0;36minv\u001b[0;34m(a)\u001b[0m\n\u001b[1;32m    559\u001b[0m signature \u001b[38;5;241m=\u001b[39m \u001b[38;5;124m'\u001b[39m\u001b[38;5;124mD->D\u001b[39m\u001b[38;5;124m'\u001b[39m \u001b[38;5;28;01mif\u001b[39;00m isComplexType(t) \u001b[38;5;28;01melse\u001b[39;00m \u001b[38;5;124m'\u001b[39m\u001b[38;5;124md->d\u001b[39m\u001b[38;5;124m'\u001b[39m\n\u001b[1;32m    560\u001b[0m extobj \u001b[38;5;241m=\u001b[39m get_linalg_error_extobj(_raise_linalgerror_singular)\n\u001b[0;32m--> 561\u001b[0m ainv \u001b[38;5;241m=\u001b[39m _umath_linalg\u001b[38;5;241m.\u001b[39minv(a, signature\u001b[38;5;241m=\u001b[39msignature, extobj\u001b[38;5;241m=\u001b[39mextobj)\n\u001b[1;32m    562\u001b[0m \u001b[38;5;28;01mreturn\u001b[39;00m wrap(ainv\u001b[38;5;241m.\u001b[39mastype(result_t, copy\u001b[38;5;241m=\u001b[39m\u001b[38;5;28;01mFalse\u001b[39;00m))\n",
      "\u001b[0;31mKeyboardInterrupt\u001b[0m: "
     ]
    }
   ],
   "source": [
    "tt = time.time()\n",
    "for ff in tqdm(range(n_f)):\n",
    "    omega = 2*np.pi*frequency[ff]\n",
    "    Fl_2d = vfi.get_h_force(omega)\n",
    "    L_2d = K_csr - omega**2*M_csr + 1j*omega*Fl_2d\n",
    "    phi = spsolve(L_2d, L)\n",
    "    phi_2d[ff] = plate.get_point_value(phi)\n",
    "    #if ff == 1:\n",
    "    #    tt = (time.time() - tt)*(n_f - 2)\n",
    "    #    print('Estimated remaining time: %d minutes and %d seconds' %(np.floor(tt/60), tt%60))"
   ]
  },
  {
   "cell_type": "markdown",
   "metadata": {},
   "source": [
    "# Compare to Sader"
   ]
  },
  {
   "cell_type": "code",
   "execution_count": null,
   "metadata": {},
   "outputs": [
    {
     "name": "stdout",
     "output_type": "stream",
     "text": [
      "Isotropic material\n"
     ]
    }
   ],
   "source": [
    "import Fluid.Analytic as Sader\n",
    "\n",
    "probe = Sader.SaderMethod()\n",
    "# specify geometry\n",
    "probe.geometry = geometry\n",
    "probe.fluid = fluid\n",
    "probe.mat = mat\n",
    "probe.frequency = frequency\n",
    "probe.N_modes = 10\n",
    "probe.n_x = 200\n",
    "#w = probe.thermal_displacement()\n",
    "#q_sader = probe.q_factor()\n",
    "w = probe.get_displacement_per_force().T*w_c\n",
    "w_sader = w\n"
   ]
  },
  {
   "cell_type": "code",
   "execution_count": null,
   "metadata": {},
   "outputs": [
    {
     "data": {
      "image/png": "[encoded data removed]",
      "text/plain": [
       "<Figure size 900x400 with 1 Axes>"
      ]
     },
     "metadata": {},
     "output_type": "display_data"
    }
   ],
   "source": [
    "plt.figure(1, figsize=(9, 4))\n",
    "plt.loglog(frequency/1e3, 1e9*np.abs(phi_2d), linewidth=2.4, label='VFI-MEMS 2D')\n",
    "plt.loglog(frequency/1e3, 1e9*np.abs(w_sader[:, -1]), ':', linewidth=3,  label='Sader')\n",
    "#plt.loglog(frequency/1e3, np.abs(phi_probe), '--', label='Old')\n",
    "plt.legend(fontsize=12)\n",
    "plt.xlabel('$f$ [kHz]', fontsize=14)\n",
    "plt.ylabel(r'$\\phi$ [nm/Pa]', fontsize=14)\n",
    "plt.show()"
   ]
  },
  {
   "cell_type": "code",
   "execution_count": null,
   "metadata": {},
   "outputs": [],
   "source": []
  }
 ],
 "metadata": {
  "kernelspec": {
   "display_name": "fenicsproject",
   "language": "python",
   "name": "python3"
  },
  "language_info": {
   "codemirror_mode": {
    "name": "ipython",
    "version": 3
   },
   "file_extension": ".py",
   "mimetype": "text/x-python",
   "name": "python",
   "nbconvert_exporter": "python",
   "pygments_lexer": "ipython3",
   "version": "3.12.2"
  }
 },
 "nbformat": 4,
 "nbformat_minor": 4
}
