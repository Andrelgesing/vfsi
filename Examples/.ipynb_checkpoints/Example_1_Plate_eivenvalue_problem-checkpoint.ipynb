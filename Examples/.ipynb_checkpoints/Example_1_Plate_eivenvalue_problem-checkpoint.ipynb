{
 "cells": [
  {
   "cell_type": "code",
   "execution_count": 1,
   "metadata": {},
   "outputs": [
    {
     "ename": "ModuleNotFoundError",
     "evalue": "No module named 'fenics'",
     "output_type": "error",
     "traceback": [
      "\u001b[0;31m---------------------------------------------------------------------------\u001b[0m",
      "\u001b[0;31mModuleNotFoundError\u001b[0m                       Traceback (most recent call last)",
      "Cell \u001b[0;32mIn [1], line 5\u001b[0m\n\u001b[1;32m      3\u001b[0m \u001b[38;5;28;01mimport\u001b[39;00m \u001b[38;5;21;01msys\u001b[39;00m\n\u001b[1;32m      4\u001b[0m sys\u001b[38;5;241m.\u001b[39mpath\u001b[38;5;241m.\u001b[39minsert(\u001b[38;5;241m0\u001b[39m, \u001b[38;5;124m'\u001b[39m\u001b[38;5;124m..\u001b[39m\u001b[38;5;124m'\u001b[39m)\n\u001b[0;32m----> 5\u001b[0m \u001b[38;5;28;01mfrom\u001b[39;00m \u001b[38;5;21;01mElastic\u001b[39;00m \u001b[38;5;28;01mimport\u001b[39;00m plate_fem \u001b[38;5;28;01mas\u001b[39;00m pt\n\u001b[1;32m      6\u001b[0m \u001b[38;5;28;01mimport\u001b[39;00m \u001b[38;5;21;01mnumpy\u001b[39;00m \u001b[38;5;28;01mas\u001b[39;00m \u001b[38;5;21;01mnp\u001b[39;00m\n\u001b[1;32m      7\u001b[0m \u001b[38;5;28;01mimport\u001b[39;00m \u001b[38;5;21;01mtime\u001b[39;00m\n",
      "File \u001b[0;32m~/2025-06_Code/vfi-mems/Examples/../Elastic/plate_fem.py:3\u001b[0m\n\u001b[1;32m      1\u001b[0m \u001b[38;5;66;03m#!/usr/bin/env python3\u001b[39;00m\n\u001b[1;32m      2\u001b[0m \u001b[38;5;66;03m# -*- coding: utf-8 -*-\u001b[39;00m\n\u001b[0;32m----> 3\u001b[0m \u001b[38;5;28;01mimport\u001b[39;00m \u001b[38;5;21;01mfenics\u001b[39;00m \u001b[38;5;28;01mas\u001b[39;00m \u001b[38;5;21;01mfe\u001b[39;00m\n\u001b[1;32m      4\u001b[0m \u001b[38;5;28;01mimport\u001b[39;00m \u001b[38;5;21;01mnumpy\u001b[39;00m \u001b[38;5;28;01mas\u001b[39;00m \u001b[38;5;21;01mnp\u001b[39;00m\n\u001b[1;32m      5\u001b[0m \u001b[38;5;28;01mimport\u001b[39;00m \u001b[38;5;21;01mcopy\u001b[39;00m\n",
      "\u001b[0;31mModuleNotFoundError\u001b[0m: No module named 'fenics'"
     ]
    }
   ],
   "source": [
    "#!/usr/bin/env python3\n",
    "# -*- coding: utf-8 -*-\n",
    "import sys\n",
    "sys.path.insert(0, '..')\n",
    "from Elastic import plate_fem as pt\n",
    "import numpy as np\n",
    "import time\n",
    "\n",
    "# Specify geometry\n",
    "l_c = 600e-6  # length of beam in m\n",
    "h_c = 5e-6  # thickness of the beam in m\n",
    "w_c = 100e-6  # width in m\n",
    "\n",
    "\n",
    "# Specify material of plate -> Silicon\n",
    "e_c = 169E9  # Young's Modulus in Pa\n",
    "rho_c = 2.33E3  # Density in kg/m^3\n",
    "nu_c = 0.3  # Poisson Coefficient, dimensionless\n",
    "\n",
    "n_eig = 5\n",
    "# Basic objects, shared by all classes\n",
    "geometry = pt.Geometry(l_c, w_c, h_c)\n",
    "mat = pt.Material(youngs_modulus=e_c, density=rho_c, poisson=nu_c)\n",
    "\n",
    "# Anisotropic silicon\n",
    "#c_values = np.array([194.5, 194.5, 35.7, 50.9, 50.9])*1e9\n",
    "#mat = pt.Material(c_values=c_values, density=rho_c)\n",
    "\n",
    "# Mesh specification -> To solve Kirchhoff-Love plate equation\n",
    "n_x = 30  # Number of elements in length l_c (x-direction)\n",
    "n_y = int(n_x*w_c/l_c)  # Number of elements in width w_c (y-direction)\n",
    "\n",
    "print('Solving IP-Method.')\n",
    "t = time.time()\n",
    "plate = pt.Kirchhoff()\n",
    "\n",
    "plate.geometry= geometry\n",
    "plate.material = mat\n",
    "plate.meshing(n_x, n_y, 'crossed')\n",
    "plate.preliminary_setup()\n",
    "#plate.setup_eigenvalues_problem()\n",
    "plate.k_and_m_matrices()\n",
    "plate.solve_n_eigenvalues(n_eig, plate.k_matrix, plate.m_matrix)\n",
    "plate.plot_eigenmodes(n_eig)\n",
    "tt = time.time() - t\n",
    "print('\\n         Solved in %d minutes and %d seconds.' % (np.floor(tt/60), tt % 60))\n",
    "\n"
   ]
  }
 ],
 "metadata": {
  "kernelspec": {
   "display_name": "Python (my_fenics)",
   "language": "python",
   "name": "my_fenics"
  },
  "language_info": {
   "codemirror_mode": {
    "name": "ipython",
    "version": 3
   },
   "file_extension": ".py",
   "mimetype": "text/x-python",
   "name": "python",
   "nbconvert_exporter": "python",
   "pygments_lexer": "ipython3",
   "version": "3.10.16"
  }
 },
 "nbformat": 4,
 "nbformat_minor": 4
}
